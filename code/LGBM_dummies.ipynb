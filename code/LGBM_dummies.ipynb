{
 "cells": [
  {
   "cell_type": "markdown",
   "metadata": {},
   "source": [
    "## LightGBM model trained on one-hot-encoded categorical features."
   ]
  },
  {
   "cell_type": "code",
   "execution_count": null,
   "metadata": {},
   "outputs": [],
   "source": [
    "import pandas as pd\n",
    "import numpy as np\n",
    "from numpy.random import seed\n",
    "seed(1)\n",
    "from stacking_folds import train_lgb"
   ]
  },
  {
   "cell_type": "code",
   "execution_count": null,
   "metadata": {},
   "outputs": [],
   "source": [
    "DATA_PREPROCESSED_PATH = \"../data/processed\""
   ]
  },
  {
   "cell_type": "code",
   "execution_count": null,
   "metadata": {},
   "outputs": [],
   "source": [
    "train_concat = pd.read_csv(os.path.join(DATA_PREPROCESSED_PATH, \"train_concat.csv.gz\"))\n",
    "test_concat = pd.read_csv(os.path.join(DATA_PREPROCESSED_PATH, \"test_concat.csv.gz\"))"
   ]
  },
  {
   "cell_type": "code",
   "execution_count": null,
   "metadata": {},
   "outputs": [],
   "source": [
    "# list of best features\n",
    "with open(\"train_features.txt\", \"r\") as file:\n",
    "    train_features = eval(file.readline())"
   ]
  },
  {
   "cell_type": "code",
   "execution_count": null,
   "metadata": {},
   "outputs": [],
   "source": [
    "# list of categorical features\n",
    "cat_features = ['MatchedHit_TYPE[0]', 'MatchedHit_TYPE[1]', 'MatchedHit_TYPE[2]', 'MatchedHit_TYPE[3]']"
   ]
  },
  {
   "cell_type": "markdown",
   "metadata": {},
   "source": [
    "## Features generation"
   ]
  },
  {
   "cell_type": "code",
   "execution_count": null,
   "metadata": {},
   "outputs": [],
   "source": [
    "train_concat['P_PT'] = train_concat.P - train_concat.PT\n",
    "train_concat['P_PT/P'] = train_concat.P_PT / train_concat.P\n",
    "test_concat['P_PT'] = test_concat.P - test_concat.PT\n",
    "test_concat['P_PT/P'] = test_concat.P_PT / test_concat.P"
   ]
  },
  {
   "cell_type": "code",
   "execution_count": null,
   "metadata": {},
   "outputs": [],
   "source": [
    "train_features.append('P_PT')\n",
    "train_features.append('P_PT/P')"
   ]
  },
  {
   "cell_type": "code",
   "execution_count": null,
   "metadata": {},
   "outputs": [],
   "source": [
    "# generated features names saved for features selection\n",
    "for i in ['MatchedHit_X[0]', 'MatchedHit_X[1]', 'MatchedHit_X[2]', 'MatchedHit_X[3]', \n",
    "          'MatchedHit_Y[0]', 'MatchedHit_Y[1]', 'MatchedHit_Y[2]', 'MatchedHit_Y[3]']:\n",
    "    # calculate absolute value for each column above\n",
    "    train_concat['abs_%s' %i] = abs(train_concat['%s' %i])\n",
    "    test_concat['abs_%s' %i] = abs(test_concat['%s' %i])\n",
    "    # add generated features names\n",
    "    train_features.append('abs_%s' %i)"
   ]
  },
  {
   "cell_type": "code",
   "execution_count": null,
   "metadata": {},
   "outputs": [],
   "source": [
    "# generate one-hot-encoded features\n",
    "train_concat = pd.get_dummies(train_concat, columns=cat_features, prefix='dummy_')\n",
    "test_concat = pd.get_dummies(test_concat, columns=cat_features, prefix='dummy_')\n",
    "dummies = [item for item in list(test_concat.columns.values) if item.startswith('dummy_')]"
   ]
  },
  {
   "cell_type": "markdown",
   "metadata": {},
   "source": [
    "## Fit and predict"
   ]
  },
  {
   "cell_type": "code",
   "execution_count": null,
   "metadata": {},
   "outputs": [],
   "source": [
    "n_folds = 5"
   ]
  },
  {
   "cell_type": "code",
   "execution_count": null,
   "metadata": {},
   "outputs": [],
   "source": [
    "y_validation, validation_predictions, test_predictions  = train_lgb(train_concat, test_concat,\n",
    "                                                                    train_features, cat_features, \n",
    "                                                                    params, n_folds)"
   ]
  },
  {
   "cell_type": "code",
   "execution_count": null,
   "metadata": {},
   "outputs": [],
   "source": [
    "np.savetxt(\"../predictions/lgbm_dummies_val\", validation_predictions)\n",
    "np.savetxt(\"../predictions/lgbm_dummies_private\", test_predictions)"
   ]
  }
 ],
 "metadata": {
  "kernelspec": {
   "display_name": "Python 3",
   "language": "python",
   "name": "python3"
  },
  "language_info": {
   "codemirror_mode": {
    "name": "ipython",
    "version": 3
   },
   "file_extension": ".py",
   "mimetype": "text/x-python",
   "name": "python",
   "nbconvert_exporter": "python",
   "pygments_lexer": "ipython3",
   "version": "3.7.4"
  }
 },
 "nbformat": 4,
 "nbformat_minor": 2
}
