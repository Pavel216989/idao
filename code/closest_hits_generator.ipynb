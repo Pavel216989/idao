{
 "cells": [
  {
   "cell_type": "markdown",
   "metadata": {},
   "source": [
    "# Add closest_hit features to the original dataframe"
   ]
  },
  {
   "cell_type": "code",
   "execution_count": null,
   "metadata": {},
   "outputs": [],
   "source": [
    "# !pip install swifter"
   ]
  },
  {
   "cell_type": "code",
   "execution_count": null,
   "metadata": {},
   "outputs": [],
   "source": [
    "import os\n",
    "import numpy as np\n",
    "import pandas as pd\n",
    "import swifter\n",
    "import utils"
   ]
  },
  {
   "cell_type": "code",
   "execution_count": null,
   "metadata": {},
   "outputs": [],
   "source": [
    "DATA_PATH = \"../data/raw\"\n",
    "DATA_PREPROCESSED_PATH = \"../data/processed\""
   ]
  },
  {
   "cell_type": "code",
   "execution_count": null,
   "metadata": {},
   "outputs": [],
   "source": [
    "%%time\n",
    "train_df = utils.load_train_hdf(DATA_PATH)"
   ]
  },
  {
   "cell_type": "code",
   "execution_count": null,
   "metadata": {},
   "outputs": [],
   "source": [
    "%%time\n",
    "test_df = utils.load_private_csv(DATA_PATH)"
   ]
  },
  {
   "cell_type": "code",
   "execution_count": null,
   "metadata": {},
   "outputs": [],
   "source": [
    "closest_hits_train = train_df.swifter.apply(\n",
    "    utils.find_closest_hit_per_station, result_type=\"expand\", axis=1)\n",
    "\n",
    "closest_hits_test = test_df.swifter.apply(\n",
    "    utils.find_closest_hit_per_station, result_type=\"expand\", axis=1)"
   ]
  },
  {
   "cell_type": "code",
   "execution_count": null,
   "metadata": {},
   "outputs": [],
   "source": [
    "train_df = pd.concat(\n",
    "    [train_df,\n",
    "    closest_hits_features], axis=1)\n",
    "\n",
    "test_df = pd.concat(\n",
    "    [test_df,\n",
    "    closest_hits_features_private], axis=1)"
   ]
  },
  {
   "cell_type": "code",
   "execution_count": null,
   "metadata": {},
   "outputs": [],
   "source": [
    "# save in chunks and compress (because of the dataset size)\n",
    "train_concat.to_csv(os.path.join(DATA_PREPROCESSED_PATH, 'train_concat.csv.gz'),\n",
    "                    chunksize=100000, \n",
    "                    compression='gzip',\n",
    "                    index=False)"
   ]
  },
  {
   "cell_type": "code",
   "execution_count": null,
   "metadata": {},
   "outputs": [],
   "source": [
    "# save in chunks and compress (because of the dataset size)\n",
    "private_concat.to_csv(os.path.join(DATA_PREPROCESSED_PATH, 'test_concat.csv.gz')\n",
    "                    chunksize=100000, \n",
    "                    compression='gzip',\n",
    "                    index=False)"
   ]
  }
 ],
 "metadata": {
  "kernelspec": {
   "display_name": "Python 3",
   "language": "python",
   "name": "python3"
  },
  "language_info": {
   "codemirror_mode": {
    "name": "ipython",
    "version": 3
   },
   "file_extension": ".py",
   "mimetype": "text/x-python",
   "name": "python",
   "nbconvert_exporter": "python",
   "pygments_lexer": "ipython3",
   "version": "3.7.4"
  }
 },
 "nbformat": 4,
 "nbformat_minor": 2
}
